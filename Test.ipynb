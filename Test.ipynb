{
 "cells": [
  {
   "cell_type": "code",
   "execution_count": 31,
   "metadata": {},
   "outputs": [],
   "source": [
    "\n"
   ]
  },
  {
   "cell_type": "code",
   "execution_count": 88,
   "metadata": {},
   "outputs": [
    {
     "ename": "AttributeError",
     "evalue": "'dict' object has no attribute 'date'",
     "output_type": "error",
     "traceback": [
      "\u001b[1;31m---------------------------------------------------------------------------\u001b[0m",
      "\u001b[1;31mAttributeError\u001b[0m                            Traceback (most recent call last)",
      "\u001b[1;32m<ipython-input-88-e764fa5013ce>\u001b[0m in \u001b[0;36m<module>\u001b[1;34m()\u001b[0m\n\u001b[0;32m     15\u001b[0m \u001b[0mresult2\u001b[0m\u001b[1;33m.\u001b[0m\u001b[0mto_excel\u001b[0m\u001b[1;33m(\u001b[0m\u001b[1;34m\"output.xlsx\"\u001b[0m\u001b[1;33m,\u001b[0m \u001b[0msheet_name\u001b[0m\u001b[1;33m=\u001b[0m\u001b[1;34m\"Sheet1\"\u001b[0m\u001b[1;33m)\u001b[0m\u001b[1;33m\u001b[0m\u001b[0m\n\u001b[0;32m     16\u001b[0m \u001b[0mdataframe\u001b[0m \u001b[1;33m=\u001b[0m \u001b[0mpd\u001b[0m\u001b[1;33m.\u001b[0m\u001b[0mread_excel\u001b[0m\u001b[1;33m(\u001b[0m\u001b[1;34m\"output.xlsx\"\u001b[0m\u001b[1;33m)\u001b[0m\u001b[1;33m\u001b[0m\u001b[0m\n\u001b[1;32m---> 17\u001b[1;33m \u001b[0mdataframe\u001b[0m\u001b[1;33m[\u001b[0m\u001b[1;34m'date'\u001b[0m\u001b[1;33m]\u001b[0m \u001b[1;33m=\u001b[0m \u001b[0mpd\u001b[0m\u001b[1;33m.\u001b[0m\u001b[0mto_datetime\u001b[0m\u001b[1;33m(\u001b[0m\u001b[0mdf\u001b[0m\u001b[1;33m.\u001b[0m\u001b[0mdate\u001b[0m\u001b[1;33m)\u001b[0m\u001b[1;33m\u001b[0m\u001b[0m\n\u001b[0m\u001b[0;32m     18\u001b[0m \u001b[0mdataframe\u001b[0m\u001b[1;33m.\u001b[0m\u001b[0mrename\u001b[0m\u001b[1;33m(\u001b[0m\u001b[0mcolumns\u001b[0m\u001b[1;33m=\u001b[0m\u001b[1;33m{\u001b[0m\u001b[1;36m0\u001b[0m\u001b[1;33m:\u001b[0m \u001b[1;34m'Bookings'\u001b[0m\u001b[1;33m,\u001b[0m \u001b[1;36m1\u001b[0m\u001b[1;33m:\u001b[0m \u001b[1;34m'Revenue'\u001b[0m\u001b[1;33m}\u001b[0m\u001b[1;33m,\u001b[0m \u001b[0minplace\u001b[0m\u001b[1;33m=\u001b[0m\u001b[1;32mTrue\u001b[0m\u001b[1;33m)\u001b[0m\u001b[1;33m\u001b[0m\u001b[0m\n\u001b[0;32m     19\u001b[0m \u001b[0mdf10\u001b[0m \u001b[1;33m=\u001b[0m \u001b[0mpd\u001b[0m\u001b[1;33m.\u001b[0m\u001b[0mpivot_table\u001b[0m\u001b[1;33m(\u001b[0m\u001b[0mdataframe\u001b[0m\u001b[1;33m,\u001b[0m \u001b[0mindex\u001b[0m\u001b[1;33m=\u001b[0m\u001b[1;34m'campaign'\u001b[0m\u001b[1;33m,\u001b[0m \u001b[0mvalues\u001b[0m\u001b[1;33m=\u001b[0m\u001b[1;33m[\u001b[0m\u001b[1;34m'unique_valid'\u001b[0m\u001b[1;33m,\u001b[0m\u001b[1;34m'Bookings'\u001b[0m\u001b[1;33m,\u001b[0m\u001b[1;34m'Revenue'\u001b[0m\u001b[1;33m]\u001b[0m\u001b[1;33m,\u001b[0m \u001b[0maggfunc\u001b[0m\u001b[1;33m=\u001b[0m\u001b[0mnp\u001b[0m\u001b[1;33m.\u001b[0m\u001b[0msum\u001b[0m\u001b[1;33m)\u001b[0m\u001b[1;33m\u001b[0m\u001b[0m\n",
      "\u001b[1;31mAttributeError\u001b[0m: 'dict' object has no attribute 'date'"
     ]
    }
   ],
   "source": [
    "import pandas as pd\n",
    "import numpy as np\n",
    "df1 = pd.read_excel(\"Saatchi_ClayMotion_IN_Android_Non_Incent.xlsx\")\n",
    "df2 = pd.read_excel(\"Saatchi_Click2comission_IN_Android_Non_Incent.xlsx\")\n",
    "df3 = pd.read_excel(\"Saatchi_Minimob_IN_Android_Non_Incent.xlsx\")\n",
    "df4 = pd.read_excel(\"Saatchi_MoBrain_IN_Android_Non_Incent.xlsx\")\n",
    "df5 = pd.read_excel(\"Saatchi_MoBusi_IN_Android_Non_Incent.xlsx\")\n",
    "df6 = pd.read_excel(\"Saatchi_Personaly_IN_Android_Non_Incent.xlsx\")\n",
    "df7 = pd.read_excel(\"Saatchi_Pocketmedia_IN_Android_Non_Incent.xlsx\")\n",
    "df8 = pd.read_excel(\"Saatchi_Vcommission_IN_Android_Non_Incent.xlsx\")\n",
    "df9 = pd.read_excel(\"Saatchi_Yeahmobi_IN_Android_Non_Incent.xlsx\")\n",
    "frames = [df1, df2, df3, df4, df5, df6, df7, df8, df9]\n",
    "result = pd.concat(frames)\n",
    "bookings = result['domestic_flight_booking'] + result['international_flight_booking'] + result['prepaid_hotel_booking']\n",
    "revenue = (result['domestic_flight_booking']*1.5) + (result['international_flight_booking']*1.5) + (result['prepaid_hotel_booking']*6.8) + (result['unique_valid']*0.55)\n",
    "frames2 = [result, bookings, revenue]\n",
    "result2 = pd.concat(frames2, axis=1)\n",
    "result2.to_excel(\"output.xlsx\", sheet_name=\"Sheet1\")\n",
    "dataframe = pd.read_excel(\"output.xlsx\")\n",
    "dataframe['date'] = pd.to_datetime(df.date)\n",
    "dataframe.rename(columns={0: 'Bookings', 1: 'Revenue'}, inplace=True)\n",
    "df10 = pd.pivot_table(dataframe, index='campaign', values=['unique_valid','Bookings','Revenue'], aggfunc=np.sum)\n",
    "df11 = df10['Revenue']/df10['Bookings']\n",
    "df12 = df10['Bookings']*100/df10['unique_valid']"
   ]
  },
  {
   "cell_type": "code",
   "execution_count": 81,
   "metadata": {},
   "outputs": [],
   "source": [
    "df11.to_excel(\"inter.xlsx\", sheet_name=\"df11\")\n",
    "df12.to_excel(\"inter.xlsx\", sheet_name=\"df12\")\n",
    "doodad = pd.read_excel(\"inter.xlsx\", sheet_name=\"df11\")"
   ]
  },
  {
   "cell_type": "code",
   "execution_count": 43,
   "metadata": {},
   "outputs": [],
   "source": [
    "import os\n",
    "files = os.listdir(\"excel\")\n",
    "i = 0\n",
    "df = dict()\n",
    "for i in range(len(files)):\n",
    "    df[i] = pd.read_excel(files[i])\n",
    "    frames.append(df[i])"
   ]
  },
  {
   "cell_type": "code",
   "execution_count": null,
   "metadata": {},
   "outputs": [],
   "source": [
    "import pandas as pd\n",
    "import numpy as np\n",
    "\n",
    "result = pd.concat(frames)\n",
    "bookings = result['domestic_flight_booking'] + result['international_flight_booking'] + result['prepaid_hotel_booking']\n",
    "revenue = (result['domestic_flight_booking']*1.5) + (result['international_flight_booking']*1.5) + (result['prepaid_hotel_booking']*6.8) + (result['unique_valid']*0.55)\n",
    "frames2 = [result, bookings, revenue]\n",
    "result2 = pd.concat(frames2, axis=1)\n",
    "result2.to_excel(\"output.xlsx\", sheet_name=\"Sheet1\")\n",
    "dataframe = pd.read_excel(\"output.xlsx\")\n",
    "dataframe['date'] = pd.to_datetime(df.date)\n",
    "dataframe.rename(columns={0: 'Bookings', 1: 'Revenue'}, inplace=True)\n",
    "df10 = pd.pivot_table(dataframe, index='campaign', values=['unique_valid','Bookings','Revenue'], aggfunc=np.sum)\n",
    "df11 = df10['Revenue']/df10['Bookings']\n",
    "df12 = df10['Bookings']*100/df10['unique_valid']"
   ]
  },
  {
   "cell_type": "code",
   "execution_count": 86,
   "metadata": {},
   "outputs": [],
   "source": []
  },
  {
   "cell_type": "code",
   "execution_count": null,
   "metadata": {},
   "outputs": [],
   "source": []
  },
  {
   "cell_type": "code",
   "execution_count": null,
   "metadata": {},
   "outputs": [],
   "source": []
  },
  {
   "cell_type": "code",
   "execution_count": null,
   "metadata": {},
   "outputs": [],
   "source": []
  }
 ],
 "metadata": {
  "kernelspec": {
   "display_name": "Python 3",
   "language": "python",
   "name": "python3"
  },
  "language_info": {
   "codemirror_mode": {
    "name": "ipython",
    "version": 3
   },
   "file_extension": ".py",
   "mimetype": "text/x-python",
   "name": "python",
   "nbconvert_exporter": "python",
   "pygments_lexer": "ipython3",
   "version": "3.6.4"
  }
 },
 "nbformat": 4,
 "nbformat_minor": 2
}
